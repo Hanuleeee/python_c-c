{
 "cells": [
  {
   "cell_type": "markdown",
   "metadata": {},
   "source": [
    "# 파라미터 튜닝 실습"
   ]
  },
  {
   "cell_type": "code",
   "execution_count": 24,
   "metadata": {
    "collapsed": true
   },
   "outputs": [],
   "source": [
    "from sklearn.model_selection import GridSearchCV\n",
    "from sklearn.ensemble import RandomForestRegressor\n",
    "from sklearn import datasets\n",
    "from sklearn.model_selection import train_test_split\n",
    "import numpy as np"
   ]
  },
  {
   "cell_type": "code",
   "execution_count": 19,
   "metadata": {
    "collapsed": true
   },
   "outputs": [],
   "source": [
    "data = datasets.load_boston()\n",
    "x = data['data']\n",
    "y = data['target']\n",
    "X_train, X_test, Y_train, Y_test = train_test_split(x, y, test_size=0.3, random_state=0)"
   ]
  },
  {
   "cell_type": "markdown",
   "metadata": {},
   "source": [
    "파라미터 튜닝의 경우 grid search를 이용하여 진행할 수 있다. grid search를 활용하는 방법은 parameter grid를 dictionary 형태로 구성하여 grid search를 진행할 수 있다.\n",
    "\n",
    "- param_grid : 파라미터 셋을 정의하고 해당 알고리즘의 파라미터 이름을 key로, search하고자는 수치의 list를 value로하는 dictionary를 만든다.\n",
    "- GridSearchCV : 모델과 앞서 정의한 param_grid를 입력하고, cross-validation(cv) 를 입력한다. 또한, 해당 모델의 평가 metric을 정의하면 해당 평가 metric기반으로 cross-validation을 통해 최적 파라미터를 찾는다. "
   ]
  },
  {
   "cell_type": "code",
   "execution_count": 21,
   "metadata": {},
   "outputs": [
    {
     "data": {
      "text/plain": [
       "GridSearchCV(cv=4, error_score='raise',\n",
       "       estimator=RandomForestRegressor(bootstrap=True, criterion='mse', max_depth=None,\n",
       "           max_features='auto', max_leaf_nodes=None,\n",
       "           min_impurity_split=1e-07, min_samples_leaf=1,\n",
       "           min_samples_split=2, min_weight_fraction_leaf=0.0,\n",
       "           n_estimators=10, n_jobs=1, oob_score=False, random_state=None,\n",
       "           verbose=0, warm_start=False),\n",
       "       fit_params={}, iid=True, n_jobs=1,\n",
       "       param_grid=[{'n_estimators': [10, 20, 30, 40, 50], 'max_features': [2, 3, 4], 'bootstrap': [True, False]}],\n",
       "       pre_dispatch='2*n_jobs', refit=True, return_train_score=True,\n",
       "       scoring='neg_mean_squared_error', verbose=0)"
      ]
     },
     "execution_count": 21,
     "metadata": {},
     "output_type": "execute_result"
    }
   ],
   "source": [
    "n_estimators = [10,20,30,40,50]\n",
    "max_featrues = [2,3,4]\n",
    "bootstrap = [True, False]\n",
    "\n",
    "param_grid = [{'n_estimators' : n_estimators, \n",
    "               'max_features': max_featrues,\n",
    "              ,'bootstrap': bootstrap}]\n",
    "\n",
    "rf = RandomForestRegressor()\n",
    "grid_search = GridSearchCV(rf, param_grid=param_grid, cv = 4,\n",
    "                          scoring='neg_mean_squared_error')\n",
    "\n",
    "grid_search.fit(X_train, Y_train)"
   ]
  },
  {
   "cell_type": "code",
   "execution_count": 22,
   "metadata": {},
   "outputs": [
    {
     "data": {
      "text/plain": [
       "{'bootstrap': False, 'max_features': 3, 'n_estimators': 40}"
      ]
     },
     "execution_count": 22,
     "metadata": {},
     "output_type": "execute_result"
    }
   ],
   "source": [
    "grid_search.best_params_"
   ]
  },
  {
   "cell_type": "code",
   "execution_count": 25,
   "metadata": {
    "scrolled": true
   },
   "outputs": [
    {
     "name": "stdout",
     "output_type": "stream",
     "text": [
      "3.9040826450569703 {'bootstrap': True, 'max_features': 2, 'n_estimators': 10}\n",
      "3.8952254654324787 {'bootstrap': True, 'max_features': 2, 'n_estimators': 20}\n",
      "3.6334224751068285 {'bootstrap': True, 'max_features': 2, 'n_estimators': 30}\n",
      "3.7021247811871802 {'bootstrap': True, 'max_features': 2, 'n_estimators': 40}\n",
      "3.707195894625741 {'bootstrap': True, 'max_features': 2, 'n_estimators': 50}\n",
      "3.848557951374092 {'bootstrap': True, 'max_features': 3, 'n_estimators': 10}\n",
      "3.6648309959414993 {'bootstrap': True, 'max_features': 3, 'n_estimators': 20}\n",
      "3.5511546931581974 {'bootstrap': True, 'max_features': 3, 'n_estimators': 30}\n",
      "3.432856326738457 {'bootstrap': True, 'max_features': 3, 'n_estimators': 40}\n",
      "3.4496590742874234 {'bootstrap': True, 'max_features': 3, 'n_estimators': 50}\n",
      "3.7794186546652435 {'bootstrap': True, 'max_features': 4, 'n_estimators': 10}\n",
      "3.457311083686067 {'bootstrap': True, 'max_features': 4, 'n_estimators': 20}\n",
      "3.3092233477203234 {'bootstrap': True, 'max_features': 4, 'n_estimators': 30}\n",
      "3.4094870471135437 {'bootstrap': True, 'max_features': 4, 'n_estimators': 40}\n",
      "3.4211790002004325 {'bootstrap': True, 'max_features': 4, 'n_estimators': 50}\n",
      "3.4900293411746395 {'bootstrap': False, 'max_features': 2, 'n_estimators': 10}\n",
      "3.4709757721330274 {'bootstrap': False, 'max_features': 2, 'n_estimators': 20}\n",
      "3.3034184343140254 {'bootstrap': False, 'max_features': 2, 'n_estimators': 30}\n",
      "3.433094981887484 {'bootstrap': False, 'max_features': 2, 'n_estimators': 40}\n",
      "3.3574768186199915 {'bootstrap': False, 'max_features': 2, 'n_estimators': 50}\n",
      "3.3724087353056866 {'bootstrap': False, 'max_features': 3, 'n_estimators': 10}\n",
      "3.379081566289636 {'bootstrap': False, 'max_features': 3, 'n_estimators': 20}\n",
      "3.147948778628522 {'bootstrap': False, 'max_features': 3, 'n_estimators': 30}\n",
      "3.133706366220242 {'bootstrap': False, 'max_features': 3, 'n_estimators': 40}\n",
      "3.4196702041402696 {'bootstrap': False, 'max_features': 3, 'n_estimators': 50}\n",
      "3.309811898319886 {'bootstrap': False, 'max_features': 4, 'n_estimators': 10}\n",
      "3.371576470359263 {'bootstrap': False, 'max_features': 4, 'n_estimators': 20}\n",
      "3.248704546489713 {'bootstrap': False, 'max_features': 4, 'n_estimators': 30}\n",
      "3.1799307907625214 {'bootstrap': False, 'max_features': 4, 'n_estimators': 40}\n",
      "3.1692382160475887 {'bootstrap': False, 'max_features': 4, 'n_estimators': 50}\n"
     ]
    }
   ],
   "source": [
    "cvres = grid_search.cv_results_\n",
    "for mean_score, params in zip(cvres[\"mean_test_score\"], cvres[\"params\"]):\n",
    "    print(np.sqrt(-mean_score), params)"
   ]
  }
 ],
 "metadata": {
  "kernelspec": {
   "display_name": "Python [default]",
   "language": "python",
   "name": "python3"
  },
  "language_info": {
   "codemirror_mode": {
    "name": "ipython",
    "version": 3
   },
   "file_extension": ".py",
   "mimetype": "text/x-python",
   "name": "python",
   "nbconvert_exporter": "python",
   "pygments_lexer": "ipython3",
   "version": "3.6.3"
  }
 },
 "nbformat": 4,
 "nbformat_minor": 2
}
